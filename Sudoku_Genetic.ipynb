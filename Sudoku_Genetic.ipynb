{
 "cells": [
  {
   "cell_type": "markdown",
   "metadata": {},
   "source": [
    "# Genetic Programming for Sudoku Solving"
   ]
  },
  {
   "cell_type": "markdown",
   "metadata": {},
   "source": [
    "## Introduction\n",
    "\n",
    "Genetic Programming is a sector of computer science devoted at developing algorithm based on Darwinian evolution. These are mainly used as search algorithm, so they search in a big parameter space and using evolution principles such as crossover and mutation they converge to local or global optima. The ingredients are:\n",
    "1. **Population**: we start with a randomly generated population;\n",
    "2. **Fitness funtion**: every individual or group is valuated with a \"quality\" metrics;\n",
    "3. **Selection procedure**: one or more individuals are used in order to give life to children;\n",
    "4. **Crossover**: how parents create children; \n",
    "5. **Mutation**: how children mutate;\n",
    "5. Continue until **Terminal Condition** is satisfied.\n",
    "\n",
    "In this notebook, my objective is to create a new genetic algorithm to solve the sudoku puzzle. My concept is based on applying the N-Queens problem's evolutionary method to a trickier challenge, like sudoku. The N queens problem is about placing queens in an NxN chessboard such that queens don't \"eat\" each other(so horizontaly, diagonally, vertically). Sudoku is a comparable puzzle since it has a 9 by 9 grid and requires consecutive numbers between 1 and 9 in every row, column, and 3 by 3 grid."
   ]
  },
  {
   "cell_type": "markdown",
   "metadata": {},
   "source": [
    "## N-Queens Problem\n",
    "\n",
    "**Objective**: Put queens in an NxN chessboard in a way they do not check each other.\n",
    "\n",
    "Here I present my techniques in order to solve this problem:\n",
    "1. **Population**: permutations of $[1, \\cdots, N]$ where the number at position $i$ tells us the vertical position (starting from the top of the chessboard) of the i-th queen. Moreover, using this permutation ensure queens do not check both horizontally and vertically;\n",
    "2. **Fitness funtion**: to assess the quality of an individual I count the number of queens that check diagonally, since by the representation used we do not have to consider vertical and horizontal checks;\n",
    "3. **Selection procedure**: I will use a tournament selection so a number of inidividuals $k$ will be chosen randomly and the one with the highest fitness will be selected to be a parent. \n",
    "4. **Crossover**: since we are dealing with a permutations representation we cannot employ the usual crossover since we may incur in repetitions. In order to solve this problem I will use a cycle crossover which I will explain widely in the code.\n",
    "5. **Mutation**: I employ two kind of mutations, Scramble mutation and Swap Mutation. The first take a random set of numbers in an individual and it shuffle it, while the second take randomly two numbers and invert them.\n",
    "5. Continue until **Fitness = 0** "
   ]
  },
  {
   "cell_type": "markdown",
   "metadata": {},
   "source": [
    "### Imports"
   ]
  },
  {
   "cell_type": "code",
   "execution_count": 1,
   "metadata": {},
   "outputs": [],
   "source": [
    "import numpy as np\n",
    "import matplotlib.pyplot as plt\n",
    "import random\n",
    "import json"
   ]
  },
  {
   "cell_type": "markdown",
   "metadata": {},
   "source": [
    "### Fitness QP\n",
    "\n",
    "In order to count the number of diagonal checks we have to make sure that the absoulte difference between entries in the list is not equal to the distance between them. For example, supposing $N = 5$ the individual $[0,2,3,1,4]$ has fitness = -2 because:\n",
    "- (0,4) checks each other since |0-4| = 4 which is equal to the difference between their indices actually (0,4)\n",
    "- (2,3) checks each other since |2-3| = 1 which is equal to the difference between their indices actually (1,2)\n"
   ]
  },
  {
   "cell_type": "code",
   "execution_count": 2,
   "metadata": {},
   "outputs": [],
   "source": [
    "def fitnessQP(x): \n",
    "  # Initialize error\n",
    "  err = 0\n",
    "  # Perform two for loops\n",
    "  for i in range(len(x)):\n",
    "    for j in range(i+1,len(x)):\n",
    "      # Check if indices difference equal to values difference\n",
    "      if np.abs(x[i] - x[j]) == np.abs(i-j):\n",
    "        err += 1\n",
    "  # Put error to negative values to minimize it\n",
    "  return -err"
   ]
  },
  {
   "cell_type": "markdown",
   "metadata": {},
   "source": [
    "### Crossover QP\n",
    "Here I use a cycle crossover in which starting from two parents we will get two children. The cycle crossover works as follows:\n",
    "- Start with the first allele of parent 1\n",
    "- Look at the allele at the same position in P2\n",
    "- Go to the position with the same-valued allele in Parent 2\n",
    "- Add this allele to the cycle\n",
    "- Repeat steps above through until you arrive at the first allele of P1\n",
    "\n",
    "After the cycle creation:\n",
    "- Put the alleles of the cycle in the first child on the positions they have in the first parent\n",
    "- Take next cycle from second parent\n",
    "\n",
    "In order to shift order in a limited and controlled manner, I choose to use a cycle crossover rather than, say, an order 1 crossover. Conversely, utilizing a cycle allows for a more varied crossover than an order 1 crossover, which would have translated complete neighboring chunks to the children."
   ]
  },
  {
   "cell_type": "code",
   "execution_count": 3,
   "metadata": {},
   "outputs": [],
   "source": [
    "def crossoverQP(p1,p2,r):\n",
    "    c1,c2 = p1.copy(),p2.copy()\n",
    "    if np.random.randn()<r:\n",
    "        # Cycle\n",
    "        index = []\n",
    "        start = 0\n",
    "        current = 0\n",
    "        while True:\n",
    "            index.append(current)\n",
    "            current_value = p2[current]\n",
    "            current = p1.index(current_value)\n",
    "            if current == start:\n",
    "                break\n",
    "        # C1\n",
    "        for i in range(len(p1)):\n",
    "            if i in index:\n",
    "                c1[i] = p1[i]\n",
    "            else:\n",
    "                c1[i] = p2[i]\n",
    "        #C2\n",
    "        for i in range(len(p2)):\n",
    "            if i in index:\n",
    "                c2[i] = p2[i]\n",
    "            else:\n",
    "                c2[i] = p1[i]\n",
    "    return c1,c2"
   ]
  },
  {
   "cell_type": "markdown",
   "metadata": {},
   "source": [
    "### MutationQP1\n",
    "The first mutation I will use is the scramble mutation which takes a random set of alleles and shuffle them. It is more explorative."
   ]
  },
  {
   "cell_type": "code",
   "execution_count": 4,
   "metadata": {},
   "outputs": [],
   "source": [
    "def mutationQP1(c,m,nbits):\n",
    "  if np.random.randn()<m:\n",
    "    a = np.random.randint(0,nbits-1)\n",
    "    b = np.random.randint(a+1,nbits)\n",
    "    shuffle_list = c[a:b]\n",
    "    random.shuffle(shuffle_list)\n",
    "    c[a:b] = shuffle_list\n",
    "  return c"
   ]
  },
  {
   "cell_type": "markdown",
   "metadata": {},
   "source": [
    "### MutationQP2\n",
    "The swap mutation consist in selecting randomly two numbers and exchange them. It is indeed more exploitative"
   ]
  },
  {
   "cell_type": "code",
   "execution_count": 5,
   "metadata": {},
   "outputs": [],
   "source": [
    "def mutationQP2(c,m,nbits):\n",
    "  if np.random.randn()<m:\n",
    "    a,b = random.sample(range(0,nbits),2)\n",
    "    value1,value2 = c[a],c[b]\n",
    "    c[a],c[b] = value2,value1\n",
    "  return c"
   ]
  },
  {
   "cell_type": "markdown",
   "metadata": {},
   "source": [
    "### Selection\n",
    "$k$ individuals will be chosen randomly and the one with the highest fitness will \"win\" the tournament and be selected to be a parent."
   ]
  },
  {
   "cell_type": "code",
   "execution_count": 6,
   "metadata": {},
   "outputs": [],
   "source": [
    "def tournament_selection(pop,scores,k=3):\n",
    "    selection_ix = np.random.randint(0,len(pop))\n",
    "    for i in np.random.randint(0,len(pop),k-1):\n",
    "        if scores[i] > scores[selection_ix]:\n",
    "            selection_ix = i\n",
    "    return pop[selection_ix]"
   ]
  },
  {
   "cell_type": "markdown",
   "metadata": {},
   "source": [
    "### Genetic algorithm QP"
   ]
  },
  {
   "cell_type": "code",
   "execution_count": 50,
   "metadata": {},
   "outputs": [],
   "source": [
    "def genetic_alg_QP(objective, n_individuals, n_generation, n_bits, r,m,k = 2):\n",
    "\n",
    "    # Initialize randomly the population\n",
    "    pop = [random.sample(range(0,n_bits),n_bits) for _ in range(n_individuals)]\n",
    "    #print(pop)\n",
    "    # keep track of the best score\n",
    "    best, best_score = pop[0], objective(pop[0])\n",
    "    best_list = []\n",
    "\n",
    "    for gen in range(n_generation):\n",
    "        # compute the scores\n",
    "        scores = [objective(i) for i in pop]\n",
    "        # always keep track of best score\n",
    "        for i in range(n_individuals):\n",
    "            if scores[i] > best_score:\n",
    "                best_score = scores[i]\n",
    "                best = pop[i]\n",
    "                print(f\"New performing individual {best} of fitness {best_score} in generation {gen}\")\n",
    "        best_list.append(best_score)\n",
    "        if best_score == 0:\n",
    "            return best, best_score,best_list\n",
    "        # let us select parents\n",
    "        parents = [tournament_selection(pop,scores,k) for _ in range(n_individuals)]\n",
    "\n",
    "        # Change parameters to decrease exploration and increase exploitation\n",
    "        if gen != 0 and gen % 10 == 0:\n",
    "            k += 1\n",
    "            r -= 0.5\n",
    "            m += 0.5\n",
    "        # Children\n",
    "        children = []\n",
    "        # Reproduction\n",
    "        for j in range(0,n_individuals,2):\n",
    "\n",
    "            # Recombination\n",
    "            p1,p2 = parents[j], parents[j+1]\n",
    "            c1,c2 = crossoverQP(p1,p2,r)\n",
    "            # Randomize the choice of the mutation in order to enlarge the possibilities\n",
    "            a = np.random.randint(0,2)\n",
    "            # Mutation\n",
    "            if a == 0: \n",
    "                c1 = mutationQP1(c1,m,n_bits)\n",
    "                c2 = mutationQP1(c2,m,n_bits)\n",
    "            else:\n",
    "                c1 = mutationQP2(c1,m,n_bits)\n",
    "                c2 = mutationQP2(c2,m,n_bits)\n",
    "            \n",
    "            # Append\n",
    "            children.append(c1)\n",
    "            children.append(c2)\n",
    "        pop = children[:]\n",
    "    # Let us recompute final scores\n",
    "    for i in range(n_individuals):\n",
    "        if scores[i] > best_score:\n",
    "            best_score = scores[i]\n",
    "            best = pop[i]\n",
    "            print(f\"New performing individual {best} of fitness {best_score} in generation {n_generation}\")\n",
    "    best_list.append(best_score)\n",
    "\n",
    "    return best, best_score,best_list"
   ]
  },
  {
   "cell_type": "code",
   "execution_count": 23,
   "metadata": {},
   "outputs": [
    {
     "name": "stdout",
     "output_type": "stream",
     "text": [
      "New performing individual [8, 3, 1, 4, 7, 0, 6, 2, 5] of fitness -1 in generation 0\n",
      "New performing individual [5, 0, 4, 1, 8, 6, 3, 7, 2] of fitness 0 in generation 0\n"
     ]
    }
   ],
   "source": [
    "n_individuals = 1000\n",
    "n_generation = 100\n",
    "n_bits = 9\n",
    "r = 0.9\n",
    "m = 1.0/ float(n_bits)\n",
    "best, best_score,best_list = genetic_alg_QP(fitnessQP, n_individuals, n_generation, n_bits, r,m)"
   ]
  },
  {
   "cell_type": "code",
   "execution_count": 53,
   "metadata": {},
   "outputs": [
    {
     "name": "stdout",
     "output_type": "stream",
     "text": [
      "New performing individual [19, 14, 18, 10, 6, 4, 3, 17, 15, 0, 12, 5, 16, 1, 7, 2, 9, 8, 13, 11] of fitness -8 in generation 0\n",
      "New performing individual [9, 11, 16, 8, 7, 12, 4, 2, 10, 17, 14, 18, 1, 15, 6, 19, 13, 5, 3, 0] of fitness -7 in generation 0\n",
      "New performing individual [16, 12, 3, 5, 8, 4, 13, 11, 17, 14, 2, 9, 6, 18, 1, 7, 19, 0, 15, 10] of fitness -5 in generation 0\n",
      "New performing individual [13, 8, 18, 5, 12, 2, 11, 19, 1, 3, 16, 14, 10, 17, 4, 7, 15, 6, 9, 0] of fitness -3 in generation 0\n",
      "New performing individual [15, 5, 12, 16, 10, 19, 2, 0, 11, 3, 8, 18, 9, 4, 14, 1, 17, 6, 13, 7] of fitness -2 in generation 3\n",
      "New performing individual [0, 6, 8, 2, 12, 19, 7, 1, 17, 9, 13, 3, 5, 15, 18, 11, 4, 14, 16, 10] of fitness -1 in generation 4\n",
      "New performing individual [9, 6, 13, 18, 8, 1, 14, 4, 0, 7, 16, 12, 2, 15, 5, 10, 19, 17, 11, 3] of fitness 0 in generation 28\n"
     ]
    }
   ],
   "source": [
    "n_individuals = 10000\n",
    "n_generation = 100\n",
    "n_bits = 20\n",
    "r = 0.9\n",
    "m = 1.0/ float(n_bits)\n",
    "best, best_score,best_list = genetic_alg_QP(fitnessQP, n_individuals, n_generation, n_bits, r,m)"
   ]
  },
  {
   "cell_type": "code",
   "execution_count": 54,
   "metadata": {},
   "outputs": [
    {
     "data": {
      "image/png": "[encoded data removed]",
      "text/plain": [
       "<Figure size 640x480 with 1 Axes>"
      ]
     },
     "metadata": {},
     "output_type": "display_data"
    }
   ],
   "source": [
    "# Let us plot the fitness of the best individual in time\n",
    "plt.plot(best_list,color = \"firebrick\")\n",
    "plt.xlabel('Generations')\n",
    "plt.ylabel('Fitness')\n",
    "plt.title('Best individual over generations')\n",
    "plt.show()"
   ]
  },
  {
   "cell_type": "markdown",
   "metadata": {},
   "source": [
    "### Discussion Results"
   ]
  },
  {
   "cell_type": "markdown",
   "metadata": {},
   "source": [
    "In this straightforward example, we see that the convergence times vary with the grid size (n_bits). Because of chance, the convergence for small grid sizes occurs instantly occasionally even in the first generation. However, the technique converges in a fair period of time and generalizes well to larger grid sizes as well."
   ]
  },
  {
   "cell_type": "markdown",
   "metadata": {},
   "source": [
    "## Sudoku\n",
    "\n",
    "**Objective**: fill a 9x9 grid with digits so that each column, each row and each of the nine 3x3 subgrids that compose the grid contains all of the digits from 1 to 9.\n",
    "\n",
    "First, I will utilize a database to randomly select a Sudoku puzzle. To find the solution, I will then apply a backtracking algorithm, which I will explain in the following section.\n",
    "\n",
    "Secondly, I will use a genetic algorithm to solve the sudoku using as a fitness the closeness to the correct solution. \n",
    "\n",
    "In the appendix, I will also show my try to solve directly the sudoku with a genetic algorithm without employing the backtracking algotihm .\n",
    "\n",
    "Here I present my techniques in order to solve this problem:\n",
    "1. **Population**: I will use the clever representation of the N-Queens Problem but in matrix format so every individual will be a 9X9 matrix, where the row $i \\in \\{1, \\cdots,9\\}$ tells us the vertical positions of number $i$ in the sudoku grid;\n",
    "2. **Fitness funtion**: to assess the quality of an individual I count the number different from the correct solution of the backpropagating algorithm;\n",
    "3. **Selection procedure**: I will use a tournament selection so a number of inidividuals $k$ will be chosen randomly and the one with the highest fitness will be selected to be a parent. \n",
    "4. **Crossover**: I will use the same crossover as the N-Queens problem but I will repeat it for every row, the only difference is that if I find an individual with a totally correct row it passes the whole row without any change.\n",
    "5. **Mutation**: I employ two kind of mutations, Scramble mutation and Swap Mutation. The first take a random set of numbers in an individual and it shuffle it, while the second take randomly two numbers and invert them.\n",
    "6. **Selection procedure II**: since I seek for a very fit individual instead of a fit population,in order to increase convergence times I perform crossover and then both type of mutations for a total of 2 parents and 4 children and I take the two most fitnessed ones.\n",
    "5. Continue until **Fitness = 0** "
   ]
  },
  {
   "cell_type": "markdown",
   "metadata": {},
   "source": [
    "### Sudoku Database import "
   ]
  },
  {
   "cell_type": "code",
   "execution_count": 55,
   "metadata": {},
   "outputs": [],
   "source": [
    "# Function to visualize the Sudoku grid\n",
    "def visualize_sudoku(sudoku):\n",
    "    fig, ax = plt.subplots(figsize=(6, 6))\n",
    "    ax.matshow(np.ones_like(sudoku), cmap='Greys', vmin=0, vmax=2)\n",
    "\n",
    "    for i in range(9):\n",
    "        for j in range(9):\n",
    "            if sudoku[i, j] != 0:\n",
    "                ax.text(j, i, sudoku[i, j], va='center', ha='center', fontsize=20)\n",
    "    \n",
    "    # Major grid lines\n",
    "    for i in range(1, 9):\n",
    "        linewidth = 3 if i % 3 == 0 else 1\n",
    "        ax.axhline(i - 0.5, color='black', linewidth=linewidth)\n",
    "        ax.axvline(i - 0.5, color='black', linewidth=linewidth)\n",
    "\n",
    "    ax.set_xticks([])\n",
    "    ax.set_yticks([])\n",
    "\n",
    "    plt.show()"
   ]
  },
  {
   "cell_type": "code",
   "execution_count": 56,
   "metadata": {},
   "outputs": [],
   "source": [
    "file_path = 'Sudoku_database.json'\n",
    "with open(file_path, 'r') as file:\n",
    "    json_data = json.load(file)"
   ]
  },
  {
   "cell_type": "code",
   "execution_count": 57,
   "metadata": {},
   "outputs": [
    {
     "data": {
      "image/png": "[encoded data removed]",
      "text/plain": [
       "<Figure size 600x600 with 1 Axes>"
      ]
     },
     "metadata": {},
     "output_type": "display_data"
    }
   ],
   "source": [
    "sample_sudoku = np.array([int(char) for char in json_data['Hard'][0]]).reshape(9, 9)\n",
    "visualize_sudoku(sample_sudoku)\n"
   ]
  },
  {
   "cell_type": "markdown",
   "metadata": {},
   "source": [
    "### Backtracking algorithm\n",
    "\n",
    "I took the code from: https://github.com/Zelkann/Sudoku-Solver-with-Backtracking-Algorithm/tree/main\n",
    "\n",
    "The algorithm finds an empty cell and attempts to place each value from 1 to 9 in that cell, checking the validity of each placement using row, column, and subgrid constraints. It recursively solves the rest of the board, backtracking by undoing invalid moves until all solutions are found."
   ]
  },
  {
   "cell_type": "code",
   "execution_count": 58,
   "metadata": {},
   "outputs": [],
   "source": [
    "# Check the empty cells avaiable in the sudoku\n",
    "def find_empty_cell(board):\n",
    "    for row in range(9):\n",
    "        for col in range(9):\n",
    "            if board[row][col] == 0:\n",
    "                return row, col\n",
    "    return None\n",
    "\n",
    "# check is placing a value in (row,col) is a feasible solution for sudoku\n",
    "def is_valid(board, row, col, value):\n",
    "    # Check for row and column constraint\n",
    "    for i in range(9):\n",
    "        if value in [board[row][i], board[i][col]]:\n",
    "            return False\n",
    "\n",
    "    # Check for box constraint\n",
    "    box_row_index = row // 3\n",
    "    box_col_index = col // 3\n",
    "    for r in range(3):\n",
    "        for c in range(3):\n",
    "            if board[box_row_index * 3 + r][box_col_index * 3 + c] == value:\n",
    "                return False\n",
    "\n",
    "    return True\n",
    "def get_solutions_by_backtracking(board, solutions):\n",
    "    \n",
    "\n",
    "    # locating the empty cell\n",
    "    empty_cell = find_empty_cell(board)\n",
    "\n",
    "    # base case: solution is found\n",
    "    if empty_cell is None:\n",
    "        solutions.append([[cell for cell in row] for row in board])\n",
    "        return solutions\n",
    "\n",
    "    # fill in the empty cell with a value and perform backtracking algorithm thereafter\n",
    "    row, col = empty_cell\n",
    "    for value in range(1, 10):\n",
    "        if is_valid(board, row, col, value):\n",
    "            board[row][col] = value\n",
    "            get_solutions_by_backtracking(board, solutions)\n",
    "            board[row][col] = 0\n",
    "    return solutions"
   ]
  },
  {
   "cell_type": "code",
   "execution_count": 59,
   "metadata": {},
   "outputs": [
    {
     "data": {
      "image/png": "[encoded data removed]",
      "text/plain": [
       "<Figure size 600x600 with 1 Axes>"
      ]
     },
     "metadata": {},
     "output_type": "display_data"
    }
   ],
   "source": [
    "solution = get_solutions_by_backtracking(sample_sudoku,[])\n",
    "solution = solution[0]\n",
    "visualize_sudoku(np.array(solution))"
   ]
  },
  {
   "cell_type": "markdown",
   "metadata": {},
   "source": [
    "Now let us put the solution sudoku in coordinates as we did with the N-Queens problem"
   ]
  },
  {
   "cell_type": "code",
   "execution_count": 60,
   "metadata": {},
   "outputs": [
    {
     "data": {
      "text/plain": [
       "[[4, 2, 8, 7, 0, 5, 6, 1, 3],\n",
       " [1, 8, 3, 2, 4, 7, 5, 0, 6],\n",
       " [5, 1, 7, 3, 8, 0, 4, 6, 2],\n",
       " [7, 5, 1, 6, 3, 2, 0, 4, 8],\n",
       " [6, 0, 4, 8, 2, 3, 7, 5, 1],\n",
       " [3, 6, 0, 1, 7, 4, 2, 8, 5],\n",
       " [2, 7, 5, 4, 6, 1, 8, 3, 0],\n",
       " [0, 4, 6, 5, 1, 8, 3, 2, 7],\n",
       " [8, 3, 2, 0, 5, 6, 1, 7, 4]]"
      ]
     },
     "execution_count": 60,
     "metadata": {},
     "output_type": "execute_result"
    }
   ],
   "source": [
    "# Save coordinates of numbers\n",
    "solution_position = {i:[] for i in range(1,10)}\n",
    "for vert_pos,j in enumerate(solution):\n",
    "  for horiz_pos in range(len(j)):\n",
    "    solution_position[j[horiz_pos]].append((vert_pos,horiz_pos))\n",
    "\n",
    "# Put in N-Queens problem coordinates\n",
    "solution_array = [[0]*9 for _ in range(9)]\n",
    "for key in range(9):\n",
    "  for i,j in solution_position[key+1]:\n",
    "    solution_array[key][j] = i\n",
    "solution_array"
   ]
  },
  {
   "cell_type": "markdown",
   "metadata": {},
   "source": [
    "### Fitness SU\n",
    "The fitness is the number ot different values with respect to the solution"
   ]
  },
  {
   "cell_type": "code",
   "execution_count": 61,
   "metadata": {},
   "outputs": [],
   "source": [
    "# Check error in a fixed row \n",
    "def fitness_row(X,k):\n",
    "  local_err = 0\n",
    "  for i,j in zip(solution_array[k],X[k]):\n",
    "    if i != j:\n",
    "      local_err += 1\n",
    "  return local_err\n",
    "\n",
    "def fitness_SU(X):\n",
    "  err = 0\n",
    "  for k in range(len(X)):\n",
    "    counter = fitness_row(X,k)\n",
    "    err += counter\n",
    "  # Always keep the negative value\n",
    "  return -err"
   ]
  },
  {
   "cell_type": "markdown",
   "metadata": {},
   "source": [
    "### Crossover SU\n",
    "We repeat the cycle crossover for each row, but if we have correct rows we spread them with a full crossover"
   ]
  },
  {
   "cell_type": "code",
   "execution_count": 62,
   "metadata": {},
   "outputs": [],
   "source": [
    "def crossoverSU(p1,p2,r):\n",
    "  c1,c2 = p1.copy(),p2.copy()\n",
    "  # Crossover of single rows\n",
    "  for i in range(len(p1)):\n",
    "    a,b = c1[i].copy(),c2[i].copy()\n",
    "    # I spread the correct rows to all the children (I seek a fit individual not a fit population)\n",
    "    if fitness_row(c1,i) == 0:\n",
    "      c2[i] = c1[i]\n",
    "      continue\n",
    "    elif fitness_row(c2,i) == 0:\n",
    "      c1[i] = c2[i]\n",
    "      continue\n",
    "    # If not do cycle crossover\n",
    "    else:\n",
    "      c1[i],c2[i] = crossoverQP(a,b,r)\n",
    "  return c1,c2"
   ]
  },
  {
   "cell_type": "markdown",
   "metadata": {},
   "source": [
    "### Mutation SU 1"
   ]
  },
  {
   "cell_type": "code",
   "execution_count": 63,
   "metadata": {},
   "outputs": [],
   "source": [
    "def mutationSU1(c,m,nbits):\n",
    "  # Scramble mutation for each row\n",
    "  mut_c = c.copy()\n",
    "  for i in range(len(c)):\n",
    "    if fitness_row(mut_c,i) == 0:\n",
    "      continue\n",
    "    else:\n",
    "      mut_c[i] = mutationQP1(mut_c[i],m,nbits)\n",
    "  return mut_c"
   ]
  },
  {
   "cell_type": "markdown",
   "metadata": {},
   "source": [
    "### Mutation SU 2"
   ]
  },
  {
   "cell_type": "code",
   "execution_count": 64,
   "metadata": {},
   "outputs": [],
   "source": [
    "def mutationSU2(c,m,nbits):\n",
    "  # Swap mutation for each row\n",
    "  mut_c = c.copy()\n",
    "  for i in range(len(c)):\n",
    "    if fitness_row(mut_c,i) == 0:\n",
    "      continue\n",
    "    else:\n",
    "      mut_c[i] = mutationQP2(mut_c[i],m,nbits)\n",
    "  return mut_c"
   ]
  },
  {
   "cell_type": "markdown",
   "metadata": {},
   "source": [
    "### Selection SU\n",
    "We employ the same selection as N-queens problem"
   ]
  },
  {
   "cell_type": "code",
   "execution_count": 65,
   "metadata": {},
   "outputs": [],
   "source": [
    "def tournament_selection(pop,scores,k = 2):\n",
    "    selection_ix = np.random.randint(0,len(pop))\n",
    "    for i in np.random.randint(0,len(pop),k-1):\n",
    "        if scores[i] > scores[selection_ix]:\n",
    "            selection_ix = i\n",
    "    return pop[selection_ix]"
   ]
  },
  {
   "cell_type": "markdown",
   "metadata": {},
   "source": [
    "### Genetic Algorithm SU"
   ]
  },
  {
   "cell_type": "code",
   "execution_count": 66,
   "metadata": {},
   "outputs": [],
   "source": [
    "def genetic_alg_SU(objective, n_individuals, n_generation, n_bits, r,m,k= 2):\n",
    "\n",
    "    # Initialize randomly the population\n",
    "    pop = [[random.sample(range(0,n_bits),n_bits) for i in range(n_bits)] for _ in range(n_individuals)]\n",
    "\n",
    "    # keep track of the best score\n",
    "    best, best_score = pop[0], objective(pop[0])\n",
    "    best_list = []\n",
    "\n",
    "    for gen in range(n_generation):\n",
    "\n",
    "        # compute the scores\n",
    "        scores = [objective(i) for i in pop]\n",
    "        # always keep track of best score\n",
    "        for i in range(n_individuals):\n",
    "            if scores[i] > best_score:\n",
    "                best_score = scores[i]\n",
    "                best = pop[i]\n",
    "                print(f\"New performing individual {best} of fitness {best_score} in generation {gen}\")\n",
    "        best_list.append(best_score)\n",
    "        if float(best_score) == 0.0:\n",
    "          return best, best_score, best_list\n",
    "        \n",
    "        # After 10 generations I try to converge to the optimal solution by increasing parameter of tournament selection\n",
    "        # decrease crossover parameter (so decrease exploration) increase mutation parameter (increase exploitation)\n",
    "        if gen % 10 == 0 and gen != 0:\n",
    "          k += 1\n",
    "          r -= 0.05\n",
    "          m += 0.05\n",
    "        # Let us select parents\n",
    "        parents = [tournament_selection(pop,scores,k) for _ in range(n_individuals)]\n",
    "        # Children\n",
    "        children = []\n",
    "        # Reproduction\n",
    "        for j in range(0,n_individuals,2):\n",
    "            # Recombination\n",
    "            p1,p2 = parents[j], parents[j+1]\n",
    "            c1,c2 = crossoverSU(p1,p2,r)\n",
    "            # Mutation alleles and rows we randomize the type of mutation for a more heterogeneous population\n",
    "            a = np.random.randint(0,2)\n",
    "            if a == 0:\n",
    "                c1 = mutationSU1(c1,m,n_bits)\n",
    "                c2 = mutationSU1(c2,m,n_bits)\n",
    "            else:\n",
    "                c1 = mutationSU2(c1,m,n_bits)\n",
    "                c1 = mutationSU2(c2,m,n_bits)\n",
    "            # Pick the two with highest fitness\n",
    "            people = [p1,p2,c1,c2]\n",
    "            points = [objective(p1),objective(p2),objective(c1),objective(c2)]\n",
    "            sorted_indices = np.argsort(points)[-2:][::-1]\n",
    "            top_two = [people[i] for i in sorted_indices]\n",
    "            children.append(top_two[0])\n",
    "            children.append(top_two[1])\n",
    "        pop = children[:]\n",
    "\n",
    "    # Let us recompute final scores\n",
    "    for i in range(n_individuals):\n",
    "        if scores[i] > best_score:\n",
    "            best_score = scores[i]\n",
    "            best = pop[i]\n",
    "            print(f\"New performing individual {best} of fitness {best_score} in generation {n_generation}\")\n",
    "    best_list.append(best_score)\n",
    "\n",
    "    return (best, best_score, best_list)"
   ]
  },
  {
   "cell_type": "code",
   "execution_count": 67,
   "metadata": {},
   "outputs": [
    {
     "name": "stdout",
     "output_type": "stream",
     "text": [
      "New performing individual [[8, 2, 5, 1, 3, 7, 6, 0, 4], [4, 6, 2, 0, 1, 8, 5, 3, 7], [6, 1, 7, 0, 2, 8, 4, 3, 5], [5, 4, 0, 6, 8, 7, 3, 1, 2], [1, 4, 3, 8, 5, 6, 7, 0, 2], [3, 2, 0, 8, 4, 6, 7, 1, 5], [8, 4, 1, 6, 2, 3, 7, 5, 0], [5, 2, 7, 0, 4, 1, 8, 3, 6], [8, 0, 4, 2, 3, 6, 7, 5, 1]] of fitness -66 in generation 0\n",
      "New performing individual [[0, 7, 3, 8, 4, 5, 1, 6, 2], [5, 3, 2, 1, 4, 7, 0, 8, 6], [0, 6, 5, 7, 3, 1, 4, 8, 2], [1, 5, 4, 0, 3, 6, 7, 8, 2], [4, 8, 0, 2, 5, 1, 3, 6, 7], [7, 6, 3, 5, 1, 0, 4, 8, 2], [4, 6, 3, 1, 2, 0, 7, 8, 5], [6, 4, 8, 5, 0, 2, 1, 3, 7], [1, 3, 2, 4, 5, 7, 0, 8, 6]] of fitness -65 in generation 0\n",
      "New performing individual [[1, 3, 5, 8, 2, 4, 7, 6, 0], [6, 5, 1, 3, 4, 7, 2, 0, 8], [5, 2, 7, 4, 8, 0, 3, 1, 6], [6, 1, 0, 3, 5, 4, 7, 8, 2], [0, 1, 4, 6, 3, 2, 7, 5, 8], [3, 4, 6, 5, 1, 2, 0, 8, 7], [6, 8, 2, 4, 0, 1, 3, 7, 5], [4, 6, 5, 7, 8, 0, 3, 2, 1], [8, 1, 7, 4, 5, 3, 0, 2, 6]] of fitness -63 in generation 0\n",
      "New performing individual [[4, 5, 6, 1, 8, 3, 7, 2, 0], [3, 8, 4, 6, 1, 0, 5, 2, 7], [6, 3, 7, 1, 5, 0, 4, 8, 2], [2, 5, 8, 1, 6, 4, 0, 7, 3], [2, 1, 3, 8, 6, 7, 4, 0, 5], [3, 7, 5, 1, 8, 0, 6, 4, 2], [6, 2, 1, 4, 3, 0, 5, 8, 7], [1, 2, 0, 5, 4, 6, 3, 8, 7], [1, 4, 2, 0, 5, 6, 8, 7, 3]] of fitness -60 in generation 1\n",
      "New performing individual [[2, 5, 7, 8, 0, 6, 1, 4, 3], [0, 7, 1, 5, 8, 4, 3, 2, 6], [2, 1, 5, 8, 3, 0, 4, 6, 7], [0, 7, 8, 5, 1, 6, 3, 4, 2], [6, 0, 4, 1, 7, 5, 8, 2, 3], [1, 6, 8, 0, 5, 4, 2, 7, 3], [4, 2, 5, 0, 6, 1, 7, 3, 8], [5, 8, 1, 3, 4, 0, 7, 2, 6], [8, 7, 2, 3, 0, 6, 5, 1, 4]] of fitness -58 in generation 2\n",
      "New performing individual [[5, 8, 3, 7, 0, 2, 6, 1, 4], [7, 0, 1, 5, 3, 4, 6, 8, 2], [7, 3, 1, 0, 8, 4, 2, 5, 6], [4, 2, 0, 6, 1, 3, 7, 5, 8], [1, 6, 4, 8, 2, 5, 7, 3, 0], [3, 6, 5, 1, 7, 8, 2, 0, 4], [1, 7, 6, 2, 0, 4, 8, 5, 3], [0, 4, 8, 7, 3, 1, 6, 5, 2], [8, 7, 3, 0, 2, 6, 5, 1, 4]] of fitness -57 in generation 2\n",
      "New performing individual [[2, 5, 0, 7, 4, 3, 6, 8, 1], [3, 8, 6, 2, 4, 7, 5, 0, 1], [8, 3, 7, 5, 2, 1, 6, 4, 0], [7, 8, 2, 6, 1, 5, 0, 4, 3], [2, 4, 1, 7, 8, 6, 0, 5, 3], [3, 6, 1, 2, 7, 0, 5, 4, 8], [1, 6, 5, 4, 0, 7, 8, 2, 3], [0, 4, 8, 5, 6, 1, 2, 3, 7], [0, 3, 8, 4, 6, 1, 7, 2, 5]] of fitness -56 in generation 3\n",
      "New performing individual [[2, 5, 8, 7, 0, 6, 1, 4, 3], [6, 7, 1, 5, 4, 8, 2, 3, 0], [2, 1, 5, 8, 3, 0, 4, 6, 7], [0, 7, 6, 5, 1, 3, 2, 4, 8], [6, 1, 3, 4, 0, 8, 7, 2, 5], [1, 6, 8, 0, 5, 4, 2, 7, 3], [4, 7, 5, 0, 6, 1, 2, 3, 8], [5, 8, 0, 1, 3, 4, 7, 2, 6], [8, 7, 2, 3, 0, 6, 5, 1, 4]] of fitness -55 in generation 3\n",
      "New performing individual [[1, 4, 6, 7, 0, 5, 3, 8, 2], [1, 8, 3, 2, 5, 4, 7, 0, 6], [8, 1, 7, 5, 0, 3, 6, 4, 2], [7, 5, 1, 6, 3, 2, 8, 4, 0], [8, 4, 2, 7, 5, 6, 3, 0, 1], [6, 5, 7, 8, 0, 3, 2, 1, 4], [2, 4, 0, 5, 3, 7, 8, 6, 1], [6, 4, 5, 0, 3, 8, 2, 1, 7], [1, 7, 5, 0, 8, 4, 6, 2, 3]] of fitness -54 in generation 4\n",
      "New performing individual [[7, 5, 8, 3, 4, 0, 6, 1, 2], [6, 5, 1, 3, 4, 7, 8, 0, 2], [5, 2, 7, 1, 8, 0, 3, 6, 4], [6, 1, 3, 0, 5, 4, 7, 8, 2], [0, 1, 4, 6, 7, 3, 2, 5, 8], [3, 0, 7, 6, 5, 4, 2, 8, 1], [6, 7, 2, 3, 0, 8, 5, 1, 4], [4, 6, 0, 5, 1, 8, 3, 2, 7], [8, 3, 5, 1, 2, 6, 0, 4, 7]] of fitness -53 in generation 4\n",
      "New performing individual [[4, 1, 8, 7, 2, 5, 6, 0, 3], [5, 2, 3, 6, 4, 7, 1, 0, 8], [2, 1, 7, 5, 8, 0, 3, 4, 6], [3, 6, 2, 7, 0, 8, 5, 4, 1], [0, 8, 4, 6, 1, 2, 7, 5, 3], [1, 6, 3, 4, 7, 0, 2, 8, 5], [0, 8, 2, 4, 6, 1, 5, 7, 3], [2, 6, 0, 5, 8, 4, 1, 3, 7], [1, 8, 7, 4, 5, 3, 0, 2, 6]] of fitness -52 in generation 5\n",
      "New performing individual [[4, 2, 1, 5, 7, 0, 3, 8, 6], [0, 8, 5, 2, 1, 7, 4, 3, 6], [8, 2, 7, 3, 4, 0, 5, 6, 1], [7, 4, 6, 8, 5, 2, 0, 3, 1], [3, 6, 4, 0, 2, 1, 7, 5, 8], [0, 1, 3, 8, 7, 5, 2, 4, 6], [3, 7, 1, 2, 6, 4, 8, 5, 0], [0, 4, 6, 5, 8, 3, 1, 2, 7], [0, 2, 5, 7, 8, 3, 1, 6, 4]] of fitness -50 in generation 6\n",
      "New performing individual [[7, 4, 2, 5, 0, 6, 1, 8, 3], [8, 2, 3, 1, 4, 7, 5, 0, 6], [4, 1, 7, 5, 8, 0, 6, 3, 2], [7, 5, 1, 6, 3, 2, 8, 4, 0], [1, 0, 6, 4, 2, 5, 7, 8, 3], [3, 0, 5, 8, 7, 1, 2, 4, 6], [5, 7, 3, 4, 6, 0, 1, 2, 8], [0, 4, 1, 6, 2, 5, 8, 3, 7], [1, 8, 5, 3, 6, 7, 2, 0, 4]] of fitness -48 in generation 7\n",
      "New performing individual [[8, 2, 6, 7, 4, 5, 0, 1, 3], [4, 2, 3, 8, 6, 7, 5, 1, 0], [5, 1, 7, 3, 8, 0, 4, 6, 2], [6, 2, 1, 0, 4, 5, 7, 8, 3], [6, 3, 4, 5, 2, 1, 8, 0, 7], [3, 6, 0, 1, 7, 8, 2, 4, 5], [6, 7, 5, 3, 2, 1, 4, 8, 0], [4, 1, 7, 2, 0, 8, 3, 5, 6], [8, 7, 1, 2, 0, 4, 6, 5, 3]] of fitness -46 in generation 8\n",
      "New performing individual [[2, 8, 5, 7, 4, 0, 6, 1, 3], [6, 5, 1, 3, 4, 7, 2, 0, 8], [5, 7, 2, 1, 8, 0, 3, 6, 4], [7, 8, 3, 6, 5, 2, 1, 4, 0], [2, 0, 4, 8, 6, 7, 3, 5, 1], [3, 6, 0, 1, 7, 8, 2, 4, 5], [1, 6, 2, 4, 0, 7, 3, 8, 5], [0, 6, 4, 5, 7, 8, 3, 2, 1], [8, 3, 0, 2, 5, 7, 6, 4, 1]] of fitness -45 in generation 8\n",
      "New performing individual [[2, 6, 8, 1, 0, 7, 3, 5, 4], [2, 5, 8, 7, 3, 6, 4, 0, 1], [5, 1, 7, 3, 8, 0, 4, 6, 2], [1, 5, 3, 6, 4, 2, 0, 7, 8], [6, 3, 0, 2, 4, 1, 5, 8, 7], [2, 4, 0, 1, 7, 6, 3, 8, 5], [2, 7, 5, 4, 6, 1, 8, 3, 0], [6, 5, 3, 1, 0, 8, 4, 2, 7], [4, 5, 2, 6, 3, 0, 1, 8, 7]] of fitness -44 in generation 9\n",
      "New performing individual [[8, 2, 1, 7, 4, 5, 0, 6, 3], [4, 1, 3, 2, 6, 7, 5, 0, 8], [5, 1, 7, 3, 8, 0, 4, 6, 2], [6, 2, 5, 7, 3, 1, 0, 4, 8], [6, 3, 4, 5, 2, 1, 8, 0, 7], [3, 6, 0, 1, 2, 7, 4, 8, 5], [6, 7, 5, 3, 2, 1, 4, 8, 0], [4, 1, 7, 2, 0, 8, 3, 5, 6], [8, 7, 2, 1, 0, 4, 6, 5, 3]] of fitness -42 in generation 9\n",
      "New performing individual [[2, 8, 3, 7, 0, 1, 6, 5, 4], [6, 8, 3, 2, 5, 7, 4, 0, 1], [5, 7, 3, 6, 0, 1, 4, 8, 2], [7, 5, 1, 6, 3, 2, 0, 4, 8], [6, 0, 4, 8, 2, 3, 7, 1, 5], [3, 6, 5, 4, 7, 8, 2, 0, 1], [3, 7, 8, 0, 6, 1, 4, 2, 5], [4, 8, 3, 1, 0, 7, 6, 5, 2], [8, 1, 2, 0, 5, 6, 3, 7, 4]] of fitness -40 in generation 9\n",
      "New performing individual [[1, 7, 6, 3, 0, 5, 2, 8, 4], [2, 8, 5, 3, 4, 7, 1, 0, 6], [5, 1, 7, 3, 8, 0, 4, 6, 2], [7, 5, 1, 6, 3, 2, 0, 4, 8], [7, 8, 4, 1, 6, 2, 5, 3, 0], [3, 6, 0, 1, 7, 4, 2, 8, 5], [2, 7, 5, 1, 6, 0, 8, 3, 4], [1, 6, 4, 8, 0, 5, 3, 2, 7], [8, 0, 2, 7, 5, 6, 3, 1, 4]] of fitness -32 in generation 10\n",
      "New performing individual [[2, 6, 8, 7, 0, 5, 3, 1, 4], [8, 6, 7, 0, 3, 5, 4, 2, 1], [5, 1, 7, 3, 8, 0, 4, 6, 2], [7, 5, 1, 6, 3, 2, 0, 4, 8], [4, 0, 2, 7, 6, 8, 3, 5, 1], [3, 6, 0, 1, 7, 4, 2, 8, 5], [2, 7, 5, 4, 6, 1, 8, 3, 0], [0, 5, 6, 1, 4, 8, 3, 2, 7], [8, 5, 2, 6, 3, 0, 1, 7, 4]] of fitness -26 in generation 11\n",
      "New performing individual [[5, 6, 8, 7, 0, 2, 3, 1, 4], [7, 8, 5, 2, 1, 6, 4, 3, 0], [5, 1, 7, 3, 8, 0, 4, 6, 2], [1, 7, 5, 6, 3, 0, 4, 2, 8], [6, 0, 4, 8, 2, 3, 7, 5, 1], [3, 6, 0, 1, 7, 4, 2, 8, 5], [2, 7, 5, 4, 6, 1, 8, 3, 0], [0, 4, 6, 5, 1, 8, 3, 2, 7], [7, 3, 5, 0, 2, 6, 1, 8, 4]] of fitness -22 in generation 11\n",
      "New performing individual [[5, 6, 8, 7, 0, 2, 3, 1, 4], [7, 4, 8, 2, 0, 1, 5, 3, 6], [5, 1, 7, 3, 8, 0, 4, 6, 2], [7, 5, 1, 6, 3, 2, 0, 4, 8], [6, 0, 4, 8, 2, 3, 7, 5, 1], [3, 6, 0, 1, 7, 4, 2, 8, 5], [2, 7, 5, 4, 6, 1, 8, 3, 0], [0, 1, 6, 5, 4, 8, 3, 2, 7], [7, 5, 2, 0, 4, 6, 1, 8, 3]] of fitness -18 in generation 12\n",
      "New performing individual [[4, 8, 2, 5, 7, 0, 6, 1, 3], [7, 8, 3, 2, 0, 6, 5, 4, 1], [5, 1, 7, 3, 8, 0, 4, 6, 2], [7, 8, 3, 6, 1, 2, 0, 4, 5], [6, 0, 4, 8, 2, 3, 7, 5, 1], [3, 6, 0, 1, 7, 4, 2, 8, 5], [2, 7, 5, 4, 6, 1, 8, 3, 0], [0, 4, 6, 5, 1, 8, 3, 2, 7], [8, 3, 2, 4, 5, 6, 1, 7, 0]] of fitness -16 in generation 12\n",
      "New performing individual [[7, 2, 5, 4, 0, 8, 6, 1, 3], [6, 7, 4, 1, 8, 3, 5, 0, 2], [5, 1, 7, 3, 8, 0, 4, 6, 2], [7, 5, 1, 6, 3, 2, 0, 4, 8], [6, 0, 4, 8, 2, 3, 7, 5, 1], [3, 6, 0, 1, 7, 4, 2, 8, 5], [2, 7, 5, 4, 6, 1, 8, 3, 0], [0, 4, 6, 5, 1, 8, 3, 2, 7], [8, 3, 2, 7, 0, 6, 5, 1, 4]] of fitness -15 in generation 12\n",
      "New performing individual [[4, 2, 8, 7, 0, 5, 6, 1, 3], [7, 0, 2, 8, 1, 5, 4, 3, 6], [5, 1, 7, 3, 8, 0, 4, 6, 2], [7, 5, 1, 6, 3, 2, 0, 4, 8], [6, 0, 4, 8, 2, 3, 7, 5, 1], [3, 6, 0, 1, 7, 4, 2, 8, 5], [2, 7, 5, 4, 6, 1, 8, 3, 0], [0, 4, 6, 5, 1, 8, 3, 2, 7], [8, 3, 2, 0, 5, 6, 1, 7, 4]] of fitness -8 in generation 13\n",
      "New performing individual [[4, 2, 8, 7, 0, 5, 6, 1, 3], [7, 6, 4, 3, 1, 2, 5, 0, 8], [5, 1, 7, 3, 8, 0, 4, 6, 2], [7, 5, 1, 6, 3, 2, 0, 4, 8], [6, 0, 4, 8, 2, 3, 7, 5, 1], [3, 6, 0, 1, 7, 4, 2, 8, 5], [2, 7, 5, 4, 6, 1, 8, 3, 0], [0, 4, 6, 5, 1, 8, 3, 2, 7], [8, 3, 2, 0, 5, 6, 1, 7, 4]] of fitness -7 in generation 13\n",
      "New performing individual [[4, 2, 8, 7, 0, 5, 6, 1, 3], [6, 8, 3, 2, 5, 7, 4, 0, 1], [5, 1, 7, 3, 8, 0, 4, 6, 2], [7, 5, 1, 6, 3, 2, 0, 4, 8], [6, 0, 4, 8, 2, 3, 7, 5, 1], [3, 6, 0, 1, 7, 4, 2, 8, 5], [2, 7, 5, 4, 6, 1, 8, 3, 0], [0, 4, 6, 5, 1, 8, 3, 2, 7], [8, 3, 2, 0, 5, 6, 1, 7, 4]] of fitness -4 in generation 14\n",
      "New performing individual [[4, 2, 8, 7, 0, 5, 6, 1, 3], [1, 8, 3, 2, 4, 7, 5, 0, 6], [5, 1, 7, 3, 8, 0, 4, 6, 2], [7, 5, 1, 6, 3, 2, 0, 4, 8], [6, 0, 4, 8, 2, 3, 7, 5, 1], [3, 6, 0, 1, 7, 4, 2, 8, 5], [2, 7, 5, 1, 6, 4, 8, 3, 0], [0, 4, 6, 5, 1, 8, 3, 2, 7], [8, 3, 2, 0, 5, 6, 1, 7, 4]] of fitness -2 in generation 14\n",
      "New performing individual [[4, 2, 8, 7, 0, 5, 6, 1, 3], [1, 8, 3, 2, 4, 7, 5, 0, 6], [5, 1, 7, 3, 8, 0, 4, 6, 2], [7, 5, 1, 6, 3, 2, 0, 4, 8], [6, 0, 4, 8, 2, 3, 7, 5, 1], [3, 6, 0, 1, 7, 4, 2, 8, 5], [2, 7, 5, 4, 6, 1, 8, 3, 0], [0, 4, 6, 5, 1, 8, 3, 2, 7], [8, 3, 2, 0, 5, 6, 1, 7, 4]] of fitness 0 in generation 14\n"
     ]
    }
   ],
   "source": [
    "n_individuals = 1000\n",
    "n_generation = 100\n",
    "n_bits = 9\n",
    "r = 0.9\n",
    "m = 1/81\n",
    "\n",
    "best, best_score ,best_list= genetic_alg_SU(fitness_SU, n_individuals, n_generation, n_bits, r,m,k=2)"
   ]
  },
  {
   "cell_type": "code",
   "execution_count": 68,
   "metadata": {},
   "outputs": [
    {
     "data": {
      "image/png": "[encoded data removed]",
      "text/plain": [
       "<Figure size 640x480 with 1 Axes>"
      ]
     },
     "metadata": {},
     "output_type": "display_data"
    }
   ],
   "source": [
    "# Let us plot the fitness of the best individual in time\n",
    "plt.plot(best_list,color = \"firebrick\")\n",
    "plt.xlabel('Generations')\n",
    "plt.ylabel('Fitness')\n",
    "plt.title('Best Individual over generations')\n",
    "plt.show()"
   ]
  },
  {
   "cell_type": "markdown",
   "metadata": {},
   "source": [
    "### Discussion and conclsuion"
   ]
  },
  {
   "cell_type": "markdown",
   "metadata": {},
   "source": [
    "As we can see from the results, we may use a relatively small number of individuals only 1000 to converge to the sudoku solution in just 14–20 generations. But in the end, we had to rely on the backtraking algorithm and develop a genetic programming scheme around it, even after multiple attempts. Consequently, the backpropagation method discovers the solution considerably more quickly than the evolutionary technique since it is faster and uses less randomness in its construction. However, although the algorithm's implementation was entertaining and difficult, we are unable to claim that it resulted in a faster rate of convergence. I'll attempt to solve the sudoku problem straight in the appendix without using the backtracking phase."
   ]
  },
  {
   "cell_type": "markdown",
   "metadata": {},
   "source": [
    "# Appendix"
   ]
  },
  {
   "cell_type": "markdown",
   "metadata": {},
   "source": [
    "## Direct Sudoku Solving\n",
    "\n",
    "**Objective**: fill a 9x9 grid with digits so that each column, each row and each of the nine 3x3 subgrids that compose the gridcontains all of the digits from 1 to 9.\n",
    "\n",
    "First, I will utilize a database to randomly select a Sudoku puzzle. To find the solution, I will then apply a genetic algorithm using the same representation used before and perform mutations and crossover both between values in singular rows both between the rows themselves.\n",
    "\n",
    "Here I present my techniques in order to solve this problem:\n",
    "1. **Population**: I will use the clever representation of the N-Queens Problem but in matrix format so every individual will be a 9X9 matrix, where the row $i \\in \\{1, \\cdots,9\\}$ tells us the vertical positions of number $i$ in the sudoku grid;\n",
    "2. **Fitness funtion**: in order to evaluate an individual's quality, I start by counting the number of times that the same position is not repeated. For instance, if individual[5][7] = 2 and individual[4][7] = 2, this indicates that the solution consists of placing the number in the same place, which I count as an error. Secondly, it has to respect  the restriction imposed by the sudoku puzzle itself.\n",
    "3. **Selection procedure**: I will use a tournament selection so a number of inidividuals $k$ will be chosen randomly and the one with the highest fitness will be selected to be a parent. \n",
    "4. **Crossover**: The cycle crossover I'll use is the same as the one used in the N-Queens problem, but I'll repeat it for each row separately and perform crossover between the row positions as well. The latter one will be a standard crossover.\n",
    "5. **Mutation**: I employ two kind of mutations, Scramble mutation and Swap Mutation. The first take a random set of numbers in an individual and it shuffle it, while the second take randomly two numbers and invert them. As the crossover they would be employed both for the values inside the rows and the positions.\n",
    "6. **Selection procedure II**: since I seek for a very fit individual instead of a fit population,in order to increase convergence times I perform crossover and then both type of mutations for a total of 2 parents and 4 children and I take the two most fitnessed ones.\n",
    "5. Continue until **Fitness = 0** "
   ]
  },
  {
   "cell_type": "markdown",
   "metadata": {},
   "source": [
    "### Sudoku Database import "
   ]
  },
  {
   "cell_type": "code",
   "execution_count": 69,
   "metadata": {},
   "outputs": [],
   "source": [
    "# Function to visualize the Sudoku grid\n",
    "def visualize_sudoku(sudoku):\n",
    "    fig, ax = plt.subplots(figsize=(6, 6))\n",
    "    ax.matshow(np.ones_like(sudoku), cmap='Greys', vmin=0, vmax=2)\n",
    "\n",
    "    for i in range(9):\n",
    "        for j in range(9):\n",
    "            if sudoku[i, j] != 0:\n",
    "                ax.text(j, i, sudoku[i, j], va='center', ha='center', fontsize=20)\n",
    "    \n",
    "    # Major grid lines\n",
    "    for i in range(1, 9):\n",
    "        linewidth = 3 if i % 3 == 0 else 1\n",
    "        ax.axhline(i - 0.5, color='black', linewidth=linewidth)\n",
    "        ax.axvline(i - 0.5, color='black', linewidth=linewidth)\n",
    "\n",
    "    ax.set_xticks([])\n",
    "    ax.set_yticks([])\n",
    "\n",
    "    plt.show()"
   ]
  },
  {
   "cell_type": "code",
   "execution_count": 70,
   "metadata": {},
   "outputs": [
    {
     "data": {
      "image/png": "[encoded data removed]",
      "text/plain": [
       "<Figure size 600x600 with 1 Axes>"
      ]
     },
     "metadata": {},
     "output_type": "display_data"
    }
   ],
   "source": [
    "file_path = 'Sudoku_database.json'\n",
    "with open(file_path, 'r') as file:\n",
    "    json_data = json.load(file)\n",
    "sample_sudoku = np.array([int(char) for char in json_data['Hard'][0]]).reshape(9, 9)\n",
    "visualize_sudoku(sample_sudoku)"
   ]
  },
  {
   "cell_type": "markdown",
   "metadata": {},
   "source": [
    "### Fitness SU1"
   ]
  },
  {
   "cell_type": "code",
   "execution_count": 71,
   "metadata": {},
   "outputs": [],
   "source": [
    "# Function to check whethere there are two numbers in the same position\n",
    "def same_no_col(x,err = 0):\n",
    "  a = np.array(x)\n",
    "  for j in a.T:\n",
    "    l1,l2 = len(j),len(set(j))\n",
    "    err -= l1-l2\n",
    "  return err\n",
    "\n",
    "# Constraints of sudoku\n",
    "dict_position = {i:[] for i in range(1,10)}\n",
    "for vert_pos,j in enumerate(sample_sudoku):\n",
    "  for horiz_pos in range(len(j)):\n",
    "    if j[horiz_pos] != 0:\n",
    "      dict_position[j[horiz_pos]].append((vert_pos,horiz_pos))"
   ]
  },
  {
   "cell_type": "code",
   "execution_count": 72,
   "metadata": {},
   "outputs": [],
   "source": [
    "def fitness_SU1(X):\n",
    "  # Fitness value\n",
    "  fit = 0\n",
    "  # Sudoku Constraint\n",
    "  for idx,row in enumerate(X,start = 1):\n",
    "    val = dict_position[idx]\n",
    "    for vert_pos,horiz_pos in val:\n",
    "      if row[horiz_pos] != vert_pos:\n",
    "        fit -= 1\n",
    "  # Penalize also the same position\n",
    "  fit = same_no_col(X,fit)\n",
    "  return fit"
   ]
  },
  {
   "cell_type": "markdown",
   "metadata": {},
   "source": [
    "### Crossover SU1"
   ]
  },
  {
   "cell_type": "code",
   "execution_count": 73,
   "metadata": {},
   "outputs": [],
   "source": [
    "def crossoverSU1(p1,p2,r,l):\n",
    "  c1,c2 = p1.copy(),p2.copy()\n",
    "  # Cycle Crossover with values inside the list\n",
    "  for i in range(len(p1)):\n",
    "    a,b = c1[i].copy(),c2[i].copy()\n",
    "    c1[i],c2[i] = crossoverQP(a,b,r)\n",
    "\n",
    "  # Standard Crossover of whole lists\n",
    "  if np.random.random() < l:\n",
    "    cross_point = np.random.randint(0,9)\n",
    "    a1,a2 = c1.copy(),c2.copy()\n",
    "    c1 = a1[:cross_point] + a2[cross_point:9]\n",
    "    c2 = a2[:cross_point] + a1[cross_point:9]\n",
    "\n",
    "  return c1,c2"
   ]
  },
  {
   "cell_type": "markdown",
   "metadata": {},
   "source": [
    "### Mutation SU11"
   ]
  },
  {
   "cell_type": "code",
   "execution_count": 74,
   "metadata": {},
   "outputs": [],
   "source": [
    "def mutationSU11(c,m,b,nbits):\n",
    "  # Mutation of values in the lists\n",
    "  mut_c = c.copy()\n",
    "  for i in range(len(c)):\n",
    "    mut_c[i] = mutationQP1(mut_c[i],m,nbits)\n",
    "  # Scramble Mutation of lists position\n",
    "  if np.random.randn() < b:\n",
    "    a = np.random.randint(0,8)\n",
    "    b = np.random.randint(a+1,9)\n",
    "    shuffle_list = mut_c[a:b]\n",
    "    random.shuffle(shuffle_list)\n",
    "    mut_c[a:b] = shuffle_list\n",
    "  return mut_c"
   ]
  },
  {
   "cell_type": "markdown",
   "metadata": {},
   "source": [
    "### Mutation SU21"
   ]
  },
  {
   "cell_type": "code",
   "execution_count": 75,
   "metadata": {},
   "outputs": [],
   "source": [
    "def mutationSU21(c,m,b,nbits):\n",
    "  # Mutation of values in the lists\n",
    "  mut_c = c.copy()\n",
    "  for i in range(len(c)):\n",
    "    mut_c[i] = mutationQP2(mut_c[i],m,nbits)\n",
    "  # Swap Mutation of whole lists\n",
    "  if np.random.randn() < b:\n",
    "    a,b = random.sample(range(0,9),2)\n",
    "    val1,val2 = mut_c[a],mut_c[b]\n",
    "    mut_c[a] = val2\n",
    "    mut_c[b] = val1\n",
    "  return mut_c"
   ]
  },
  {
   "cell_type": "markdown",
   "metadata": {},
   "source": [
    "### Selection SU1"
   ]
  },
  {
   "cell_type": "code",
   "execution_count": 76,
   "metadata": {},
   "outputs": [],
   "source": [
    "def tournament_selection(pop,scores,k = 2):\n",
    "    selection_ix = np.random.randint(0,len(pop))\n",
    "    for i in np.random.randint(0,len(pop),k-1):\n",
    "        if scores[i] > scores[selection_ix]:\n",
    "            selection_ix = i\n",
    "    return pop[selection_ix]"
   ]
  },
  {
   "cell_type": "markdown",
   "metadata": {},
   "source": [
    "### Genetic Algorithm"
   ]
  },
  {
   "cell_type": "code",
   "execution_count": 77,
   "metadata": {},
   "outputs": [],
   "source": [
    "def genetic_algSU1(objective, n_individuals, n_generation, n_bits, r,l,m,b,k= 2):\n",
    "\n",
    "    # Initialize randomly the population\n",
    "    pop = [[random.sample(range(0,n_bits),n_bits) for i in range(n_bits)] for _ in range(n_individuals)]\n",
    "\n",
    "    # keep track of the best score\n",
    "    best, best_score = pop[0], objective(pop[0])\n",
    "    best_list = []\n",
    "\n",
    "    for gen in range(n_generation):\n",
    "\n",
    "        # compute the scores\n",
    "        scores = [objective(i) for i in pop]\n",
    "        # always keep track of best score\n",
    "        for i in range(n_individuals):\n",
    "            if scores[i] > best_score:\n",
    "                best_score = scores[i]\n",
    "                best = pop[i]\n",
    "                print(f\"New performing individual {best} of fitness {best_score} in generation {gen}\")\n",
    "        best_list.append(best_score)\n",
    "        if float(best_score) == 0.0:\n",
    "          return best, best_score, best_list\n",
    "        \n",
    "        # After 10 generations I try to converge to the optimal solution by increasing parameter of tournament selection\n",
    "        # decrease crossover parameter (so decrease exploration) increase mutation parameter (increase exploitation)\n",
    "        if gen % 10 == 0 and gen != 0:\n",
    "          k += 1\n",
    "          r -= 0.5\n",
    "          l -= 0.5\n",
    "          m += 0.5\n",
    "          b += 0.5\n",
    "        # Let us select parents\n",
    "        parents = [tournament_selection(pop,scores,k) for _ in range(n_individuals)]\n",
    "        # Children\n",
    "        children = []\n",
    "        # Reproduction\n",
    "        for j in range(0,n_individuals,2):\n",
    "            # Recombination\n",
    "            p1,p2 = parents[j], parents[j+1]\n",
    "            c1,c2 = crossoverSU(p1,p2,r)\n",
    "            # Mutation alleles and rows\n",
    "            a = np.random.randint(0,2)\n",
    "            if a == 0:\n",
    "                c1 = mutationSU11(c1,m,b,n_bits)\n",
    "                c2 = mutationSU11(c2,m,b,n_bits)\n",
    "            else:\n",
    "                c1 = mutationSU21(c1,m,b,n_bits)\n",
    "                c1 = mutationSU21(c2,m,b,n_bits)\n",
    "            # Pick the two with highest fitness\n",
    "            people = [p1,p2,c1,c2]\n",
    "            points = [objective(p1),objective(p2),objective(c1),objective(c2)]\n",
    "            sorted_indices = np.argsort(points)[-2:][::-1]\n",
    "            top_two = [people[i] for i in sorted_indices]\n",
    "            children.append(top_two[0])\n",
    "            children.append(top_two[1])\n",
    "            children.append(c1)\n",
    "            children.append(c2)\n",
    "        pop = children[:]\n",
    "\n",
    "    # Let us recompute final scores\n",
    "    for i in range(n_individuals):\n",
    "        if scores[i] > best_score:\n",
    "            best_score = scores[i]\n",
    "            best = pop[i]\n",
    "            print(f\"New performing individual {best} of fitness {best_score} in generation {n_generation}\")\n",
    "    best_list.append(best_score)\n",
    "\n",
    "    return (best, best_score, best_list)"
   ]
  },
  {
   "cell_type": "code",
   "execution_count": 78,
   "metadata": {},
   "outputs": [
    {
     "name": "stdout",
     "output_type": "stream",
     "text": [
      "New performing individual [[2, 3, 0, 4, 8, 1, 7, 5, 6], [0, 3, 5, 2, 7, 4, 6, 8, 1], [3, 2, 7, 4, 0, 6, 8, 1, 5], [4, 8, 1, 3, 0, 5, 7, 6, 2], [1, 7, 2, 4, 3, 6, 0, 5, 8], [8, 4, 0, 1, 7, 3, 6, 5, 2], [7, 5, 2, 6, 8, 3, 0, 4, 1], [7, 5, 4, 0, 1, 8, 6, 2, 3], [4, 6, 1, 3, 0, 5, 2, 7, 8]] of fitness -46 in generation 0\n",
      "New performing individual [[3, 1, 8, 6, 0, 7, 4, 2, 5], [0, 8, 5, 3, 1, 7, 6, 2, 4], [0, 4, 6, 2, 5, 7, 8, 1, 3], [1, 5, 7, 3, 4, 8, 2, 0, 6], [8, 2, 4, 0, 5, 7, 6, 3, 1], [4, 5, 3, 6, 2, 8, 0, 1, 7], [7, 1, 0, 6, 2, 4, 3, 8, 5], [7, 0, 3, 2, 1, 6, 8, 5, 4], [5, 8, 2, 3, 6, 1, 7, 0, 4]] of fitness -44 in generation 0\n",
      "New performing individual [[2, 5, 7, 0, 4, 3, 6, 1, 8], [4, 6, 0, 3, 8, 7, 1, 5, 2], [5, 0, 8, 1, 7, 6, 4, 2, 3], [5, 8, 2, 4, 3, 0, 7, 6, 1], [1, 7, 3, 4, 2, 0, 8, 6, 5], [2, 6, 3, 7, 4, 0, 5, 8, 1], [2, 4, 1, 5, 8, 3, 6, 0, 7], [8, 1, 5, 3, 6, 2, 7, 0, 4], [0, 2, 3, 4, 7, 5, 1, 8, 6]] of fitness -41 in generation 0\n",
      "New performing individual [[8, 7, 6, 3, 2, 5, 0, 1, 4], [6, 7, 1, 8, 4, 2, 3, 5, 0], [5, 0, 4, 6, 8, 2, 7, 1, 3], [0, 4, 3, 1, 6, 8, 5, 7, 2], [2, 7, 5, 6, 1, 0, 3, 4, 8], [3, 5, 0, 1, 7, 4, 2, 8, 6], [5, 3, 8, 2, 0, 6, 7, 1, 4], [1, 8, 6, 7, 4, 5, 0, 2, 3], [4, 8, 1, 0, 6, 3, 5, 2, 7]] of fitness -40 in generation 0\n",
      "New performing individual [[7, 1, 6, 2, 8, 3, 0, 5, 4], [0, 5, 1, 8, 4, 7, 2, 3, 6], [2, 5, 3, 0, 1, 6, 7, 4, 8], [8, 4, 3, 0, 6, 2, 5, 7, 1], [3, 0, 4, 1, 5, 7, 6, 2, 8], [6, 3, 1, 2, 7, 0, 4, 8, 5], [8, 6, 2, 5, 3, 1, 7, 0, 4], [0, 2, 5, 4, 3, 6, 8, 1, 7], [1, 8, 2, 4, 3, 5, 6, 7, 0]] of fitness -38 in generation 0\n",
      "New performing individual [[4, 0, 8, 6, 5, 2, 7, 1, 3], [4, 1, 6, 8, 0, 7, 5, 3, 2], [0, 6, 5, 2, 8, 3, 7, 4, 1], [2, 7, 3, 4, 6, 1, 5, 0, 8], [6, 0, 4, 7, 2, 8, 1, 5, 3], [7, 8, 3, 5, 1, 4, 6, 0, 2], [0, 5, 7, 2, 3, 4, 1, 8, 6], [4, 5, 8, 6, 1, 0, 3, 2, 7], [7, 4, 3, 1, 5, 6, 0, 2, 8]] of fitness -37 in generation 0\n",
      "New performing individual [[3, 6, 1, 0, 2, 5, 4, 8, 7], [6, 8, 7, 4, 0, 1, 5, 2, 3], [0, 6, 3, 1, 5, 8, 7, 4, 2], [7, 4, 5, 3, 0, 1, 6, 2, 8], [1, 6, 5, 2, 8, 4, 7, 3, 0], [8, 5, 6, 7, 1, 2, 3, 0, 4], [5, 7, 2, 6, 4, 0, 8, 1, 3], [4, 3, 8, 7, 5, 2, 0, 1, 6], [2, 3, 0, 5, 6, 7, 1, 4, 8]] of fitness -36 in generation 0\n",
      "New performing individual [[4, 7, 0, 2, 5, 6, 3, 1, 8], [2, 0, 8, 4, 1, 3, 6, 5, 7], [5, 8, 6, 2, 4, 7, 1, 0, 3], [3, 5, 4, 1, 2, 0, 8, 7, 6], [7, 8, 2, 3, 6, 4, 5, 1, 0], [8, 6, 1, 4, 7, 0, 2, 5, 3], [4, 7, 3, 8, 0, 2, 1, 6, 5], [0, 1, 7, 4, 3, 5, 6, 2, 8], [1, 2, 5, 0, 3, 6, 4, 8, 7]] of fitness -34 in generation 2\n",
      "New performing individual [[5, 6, 0, 4, 8, 2, 7, 1, 3], [5, 4, 6, 3, 7, 1, 0, 2, 8], [5, 3, 8, 7, 1, 0, 2, 4, 6], [1, 6, 5, 2, 7, 4, 3, 0, 8], [2, 1, 4, 6, 0, 3, 5, 8, 7], [4, 1, 0, 7, 2, 8, 6, 3, 5], [8, 7, 1, 0, 5, 6, 4, 2, 3], [7, 0, 3, 5, 4, 6, 1, 2, 8], [3, 5, 2, 6, 4, 1, 8, 0, 7]] of fitness -33 in generation 5\n",
      "New performing individual [[0, 4, 7, 8, 6, 1, 5, 3, 2], [3, 8, 2, 1, 6, 7, 0, 4, 5], [5, 6, 3, 1, 0, 2, 4, 8, 7], [7, 5, 4, 6, 2, 0, 3, 8, 1], [5, 0, 6, 4, 3, 7, 1, 2, 8], [5, 1, 8, 0, 2, 4, 6, 7, 3], [0, 7, 2, 5, 4, 3, 8, 1, 6], [6, 2, 5, 3, 1, 8, 7, 4, 0], [1, 7, 0, 2, 3, 5, 6, 4, 8]] of fitness -32 in generation 6\n",
      "New performing individual [[2, 8, 4, 5, 0, 6, 7, 1, 3], [7, 0, 6, 4, 1, 8, 5, 3, 2], [5, 7, 0, 8, 2, 1, 4, 6, 3], [8, 3, 1, 5, 4, 7, 6, 2, 0], [6, 2, 7, 5, 0, 3, 4, 8, 1], [3, 6, 2, 7, 8, 4, 5, 1, 0], [2, 7, 3, 4, 5, 0, 8, 1, 6], [0, 7, 8, 3, 4, 2, 1, 5, 6], [1, 0, 4, 2, 6, 5, 3, 7, 8]] of fitness -31 in generation 8\n",
      "New performing individual [[8, 7, 2, 5, 0, 4, 6, 1, 3], [6, 0, 8, 1, 5, 7, 2, 3, 4], [3, 5, 0, 2, 7, 8, 4, 6, 1], [4, 0, 1, 7, 3, 2, 6, 5, 8], [8, 2, 4, 0, 6, 1, 7, 3, 5], [5, 3, 7, 1, 8, 4, 2, 0, 6], [2, 7, 4, 3, 6, 0, 1, 8, 5], [4, 6, 0, 2, 1, 5, 8, 3, 7], [5, 0, 3, 4, 1, 6, 2, 7, 8]] of fitness -29 in generation 12\n",
      "New performing individual [[7, 5, 3, 6, 0, 8, 4, 1, 2], [4, 5, 1, 3, 6, 7, 0, 8, 2], [5, 7, 6, 4, 3, 0, 1, 2, 8], [1, 5, 4, 2, 0, 7, 8, 6, 3], [6, 0, 5, 3, 4, 2, 7, 1, 8], [0, 6, 3, 1, 7, 4, 2, 8, 5], [2, 7, 0, 6, 8, 3, 1, 5, 4], [0, 6, 8, 7, 1, 4, 3, 2, 5], [8, 1, 2, 0, 4, 6, 3, 7, 5]] of fitness -28 in generation 16\n",
      "New performing individual [[7, 3, 8, 2, 0, 6, 5, 1, 4], [4, 8, 3, 5, 7, 6, 2, 1, 0], [5, 1, 6, 2, 0, 8, 4, 3, 7], [6, 5, 3, 1, 2, 4, 7, 0, 8], [1, 0, 4, 6, 3, 2, 7, 8, 5], [3, 6, 4, 1, 5, 7, 8, 0, 2], [2, 4, 7, 5, 6, 1, 0, 3, 8], [5, 7, 4, 0, 8, 3, 1, 2, 6], [8, 2, 1, 3, 4, 0, 6, 7, 5]] of fitness -27 in generation 17\n",
      "New performing individual [[7, 2, 4, 6, 0, 5, 8, 1, 3], [6, 8, 4, 2, 1, 7, 0, 3, 5], [5, 6, 1, 3, 8, 2, 4, 0, 7], [2, 5, 1, 4, 7, 0, 3, 6, 8], [1, 7, 4, 8, 5, 0, 6, 3, 2], [0, 2, 3, 1, 7, 4, 6, 5, 8], [0, 7, 1, 2, 5, 3, 8, 6, 4], [8, 4, 6, 7, 1, 3, 5, 2, 0], [8, 0, 2, 5, 4, 6, 3, 7, 1]] of fitness -26 in generation 18\n",
      "New performing individual [[0, 1, 7, 6, 8, 2, 5, 3, 4], [3, 8, 2, 4, 0, 7, 1, 5, 6], [5, 6, 3, 7, 8, 2, 4, 0, 1], [7, 5, 4, 0, 3, 1, 2, 6, 8], [5, 6, 1, 8, 2, 3, 7, 4, 0], [5, 2, 8, 1, 7, 4, 0, 3, 6], [5, 7, 1, 2, 6, 0, 8, 3, 4], [6, 4, 5, 3, 1, 8, 7, 2, 0], [1, 0, 2, 4, 5, 6, 8, 7, 3]] of fitness -23 in generation 23\n",
      "New performing individual [[7, 8, 5, 2, 0, 6, 1, 4, 3], [0, 8, 1, 4, 3, 7, 2, 5, 6], [5, 3, 6, 7, 4, 0, 8, 1, 2], [4, 6, 7, 5, 2, 1, 3, 0, 8], [2, 5, 4, 8, 6, 3, 7, 0, 1], [6, 5, 0, 3, 7, 2, 4, 8, 1], [2, 7, 3, 0, 5, 8, 6, 4, 1], [5, 2, 0, 6, 1, 7, 4, 3, 8], [8, 0, 2, 1, 3, 6, 5, 7, 4]] of fitness -22 in generation 25\n",
      "New performing individual [[4, 1, 6, 7, 8, 2, 5, 0, 3], [3, 8, 1, 4, 6, 7, 0, 5, 2], [5, 6, 3, 8, 2, 0, 4, 1, 7], [7, 5, 4, 0, 3, 2, 1, 6, 8], [6, 5, 1, 8, 2, 3, 7, 4, 0], [5, 0, 8, 1, 7, 4, 2, 3, 6], [0, 7, 1, 2, 5, 3, 8, 6, 4], [6, 4, 5, 3, 1, 8, 7, 2, 0], [1, 3, 2, 4, 8, 6, 5, 7, 0]] of fitness -20 in generation 28\n",
      "New performing individual [[7, 2, 4, 6, 0, 5, 8, 1, 3], [6, 8, 5, 2, 7, 1, 0, 3, 4], [5, 6, 1, 3, 8, 7, 4, 0, 2], [2, 5, 7, 0, 4, 1, 3, 6, 8], [1, 5, 8, 4, 6, 3, 7, 0, 2], [0, 3, 5, 1, 7, 4, 2, 8, 6], [0, 7, 1, 3, 2, 8, 6, 5, 4], [4, 8, 6, 7, 1, 3, 5, 2, 0], [8, 0, 2, 5, 3, 6, 4, 7, 1]] of fitness -19 in generation 33\n",
      "New performing individual [[4, 1, 6, 8, 0, 5, 2, 7, 3], [3, 8, 4, 1, 6, 7, 0, 5, 2], [5, 6, 3, 8, 2, 0, 4, 1, 7], [7, 5, 4, 0, 3, 2, 1, 6, 8], [6, 5, 4, 2, 8, 3, 7, 0, 1], [5, 0, 8, 1, 7, 4, 2, 3, 6], [0, 7, 1, 2, 5, 3, 8, 6, 4], [6, 4, 5, 3, 1, 8, 7, 2, 0], [1, 3, 2, 4, 8, 6, 5, 7, 0]] of fitness -17 in generation 37\n",
      "New performing individual [[4, 2, 6, 7, 0, 5, 8, 1, 3], [3, 8, 1, 4, 6, 7, 0, 5, 2], [5, 6, 3, 8, 2, 0, 4, 1, 7], [7, 5, 4, 0, 3, 2, 1, 6, 8], [6, 5, 4, 8, 2, 3, 7, 0, 1], [5, 0, 8, 1, 7, 4, 2, 3, 6], [0, 7, 1, 2, 5, 3, 8, 6, 4], [6, 4, 5, 3, 1, 8, 7, 2, 0], [1, 3, 2, 8, 4, 6, 5, 7, 0]] of fitness -15 in generation 42\n",
      "New performing individual [[4, 2, 6, 7, 0, 5, 8, 1, 3], [3, 8, 1, 4, 6, 7, 0, 5, 2], [5, 6, 3, 8, 2, 0, 4, 1, 7], [7, 5, 4, 0, 3, 2, 1, 6, 8], [6, 5, 4, 8, 2, 3, 7, 0, 1], [5, 0, 8, 1, 7, 4, 2, 3, 6], [0, 7, 1, 2, 5, 8, 3, 6, 4], [6, 4, 5, 3, 1, 8, 7, 2, 0], [1, 3, 2, 8, 4, 6, 5, 7, 0]] of fitness -14 in generation 48\n",
      "New performing individual [[4, 2, 6, 7, 0, 5, 8, 1, 3], [3, 8, 1, 4, 6, 7, 0, 5, 2], [5, 6, 3, 8, 2, 0, 4, 1, 7], [7, 5, 4, 0, 3, 2, 1, 6, 8], [6, 5, 4, 8, 2, 3, 7, 0, 1], [5, 0, 8, 1, 7, 4, 2, 3, 6], [0, 7, 1, 2, 5, 3, 6, 8, 4], [6, 4, 5, 3, 1, 8, 7, 2, 0], [1, 3, 2, 8, 4, 6, 5, 7, 0]] of fitness -13 in generation 52\n",
      "New performing individual [[4, 2, 6, 7, 0, 5, 8, 1, 3], [3, 8, 7, 6, 4, 1, 0, 5, 2], [5, 6, 3, 8, 2, 0, 4, 1, 7], [7, 5, 0, 4, 3, 2, 1, 6, 8], [2, 6, 4, 5, 8, 3, 7, 0, 1], [5, 1, 8, 0, 7, 4, 2, 3, 6], [0, 7, 1, 2, 5, 3, 6, 8, 4], [6, 4, 5, 3, 1, 8, 7, 2, 0], [1, 3, 2, 8, 4, 6, 5, 7, 0]] of fitness -12 in generation 59\n",
      "New performing individual [[4, 2, 6, 7, 0, 5, 8, 1, 3], [3, 8, 1, 4, 6, 7, 0, 5, 2], [5, 6, 3, 8, 2, 0, 4, 1, 7], [7, 5, 4, 0, 3, 2, 1, 6, 8], [6, 5, 4, 2, 8, 3, 7, 0, 1], [5, 0, 8, 1, 7, 4, 2, 3, 6], [2, 1, 7, 0, 5, 3, 6, 8, 4], [6, 4, 5, 3, 1, 8, 7, 2, 0], [1, 3, 2, 8, 4, 6, 5, 7, 0]] of fitness -11 in generation 60\n",
      "New performing individual [[4, 2, 6, 7, 0, 5, 8, 1, 3], [3, 8, 1, 6, 4, 7, 0, 5, 2], [5, 6, 3, 8, 2, 0, 4, 1, 7], [7, 5, 0, 4, 3, 2, 1, 6, 8], [6, 5, 4, 2, 8, 3, 7, 0, 1], [0, 5, 8, 1, 7, 4, 2, 3, 6], [2, 1, 7, 0, 5, 3, 6, 8, 4], [6, 4, 5, 3, 1, 8, 7, 2, 0], [1, 3, 2, 5, 8, 6, 4, 7, 0]] of fitness -10 in generation 68\n",
      "New performing individual [[4, 2, 6, 7, 0, 5, 8, 1, 3], [3, 8, 1, 6, 4, 7, 0, 5, 2], [5, 6, 3, 8, 2, 0, 4, 1, 7], [7, 5, 0, 4, 3, 2, 1, 6, 8], [6, 5, 4, 2, 8, 3, 7, 0, 1], [0, 5, 8, 1, 7, 4, 2, 3, 6], [2, 1, 7, 0, 5, 6, 3, 8, 4], [6, 4, 5, 3, 1, 8, 7, 2, 0], [8, 3, 2, 5, 6, 1, 4, 7, 0]] of fitness -9 in generation 104\n"
     ]
    }
   ],
   "source": [
    "n_individuals = 10000\n",
    "n_generation = 200\n",
    "n_bits = 9\n",
    "r = 0.9\n",
    "l = 0.8\n",
    "m = 1.0/ float(n_bits*n_bits)\n",
    "b = m\n",
    "best, best_score,best_list = genetic_algSU1(fitness_SU1, n_individuals, n_generation, n_bits, r,l,m,b)"
   ]
  },
  {
   "cell_type": "code",
   "execution_count": 80,
   "metadata": {},
   "outputs": [
    {
     "data": {
      "image/png": "[encoded data removed]",
      "text/plain": [
       "<Figure size 640x480 with 1 Axes>"
      ]
     },
     "metadata": {},
     "output_type": "display_data"
    }
   ],
   "source": [
    "# Let us plot the fitness of the best individual in time\n",
    "plt.plot(best_list,color = \"firebrick\")\n",
    "plt.xlabel('Generation')\n",
    "plt.ylabel('Fitness')\n",
    "plt.title('Best Individual over generations')\n",
    "plt.show()"
   ]
  },
  {
   "cell_type": "markdown",
   "metadata": {},
   "source": [
    "### Discussion\n",
    "The genetic algorithm takes a long time to run and fails to converge despite having a high number of individuals and generations. This effect can likely be attributed to the problem's rising randomness because there are $9^{81}$ potential combinations to find a unique solution. To truly converge, more people, more generations, and more computing time will probably be needed."
   ]
  },
  {
   "cell_type": "markdown",
   "metadata": {},
   "source": [
    "# Bibliography"
   ]
  },
  {
   "cell_type": "markdown",
   "metadata": {},
   "source": [
    "[1] https://nidragedd.github.io/sudoku-genetics/\n",
    "\n",
    "[2] https://github.com/Zelkann/Sudoku-Solver-with-Backtracking-Algorithm/tree/main\n",
    "\n",
    "[3] A.E. Eiben, J.E. Smith. Introduction to Evolutionary Computing,Springer Berlin, Heidelberg.2015"
   ]
  }
 ],
 "metadata": {
  "kernelspec": {
   "display_name": "Linear_programming",
   "language": "python",
   "name": "python3"
  },
  "language_info": {
   "codemirror_mode": {
    "name": "ipython",
    "version": 3
   },
   "file_extension": ".py",
   "mimetype": "text/x-python",
   "name": "python",
   "nbconvert_exporter": "python",
   "pygments_lexer": "ipython3",
   "version": "3.9.16"
  }
 },
 "nbformat": 4,
 "nbformat_minor": 2
}
